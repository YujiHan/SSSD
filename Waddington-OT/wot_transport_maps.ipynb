{
 "cells": [
  {
   "cell_type": "code",
   "execution_count": 2,
   "metadata": {},
   "outputs": [],
   "source": [
    "%load_ext autoreload\n",
    "%autoreload 2"
   ]
  },
  {
   "cell_type": "code",
   "execution_count": 3,
   "metadata": {},
   "outputs": [],
   "source": [
    "\n",
    "import matplotlib.pyplot as plt\n",
    "import numpy as np\n",
    "import pandas as pd\n",
    "from tqdm import tqdm\n",
    "import sys\n",
    "sys.path.append('/home/hanyuji/Workbench/scSSSD')\n",
    "\n",
    "import wot\n",
    "from dataset.dataset_utils import loadSCData"
   ]
  },
  {
   "cell_type": "code",
   "execution_count": 4,
   "metadata": {},
   "outputs": [
    {
     "name": "stdout",
     "output_type": "stream",
     "text": [
      "[ Data=zebrafish | Split=three_interpolation ] Loading data...\n"
     ]
    }
   ],
   "source": [
    "ann_data, cell_tps, cell_types, n_genes, n_tps = loadSCData(\"zebrafish\", \"three_interpolation\")\n",
    "\n",
    "\n",
    "ann_data.obs = pd.DataFrame(index=ann_data.obs.index)\n",
    "ann_data.obs['day'] = cell_tps"
   ]
  },
  {
   "cell_type": "code",
   "execution_count": 5,
   "metadata": {},
   "outputs": [],
   "source": [
    "# create OTModel\n",
    "ot_model = wot.ot.OTModel(ann_data, epsilon=0.05, lambda1=1, lambda2=50)"
   ]
  },
  {
   "cell_type": "code",
   "execution_count": 6,
   "metadata": {},
   "outputs": [
    {
     "name": "stdout",
     "output_type": "stream",
     "text": [
      "time:1, shape:(311, 200)\n",
      "time:2, shape:(200, 1158)\n",
      "time:3, shape:(1158, 1467)\n",
      "time:4, shape:(1467, 5716)\n",
      "time:5, shape:(5716, 1026)\n",
      "time:6, shape:(1026, 4101)\n",
      "time:7, shape:(4101, 6178)\n",
      "time:8, shape:(6178, 5442)\n",
      "time:9, shape:(5442, 7114)\n",
      "time:10, shape:(7114, 1614)\n",
      "time:11, shape:(1614, 4404)\n"
     ]
    }
   ],
   "source": [
    "boundary = 0.09\n",
    "all_couple_dict = {}\n",
    "\n",
    "for time_start in range(1, 12):\n",
    "    tmap_annotated = ot_model.compute_transport_map(time_start, time_start + 1)\n",
    "    print(f'time:{time_start}, shape:{tmap_annotated.X.shape}')\n",
    "\n",
    "    matrix_x = tmap_annotated.X\n",
    "    cell_1 = tmap_annotated.obs.index.tolist()\n",
    "    cell_2 = tmap_annotated.var.index.tolist()\n",
    "\n",
    "    single_couple_dict = {}\n",
    "    for i, item in enumerate(range(matrix_x.shape[0])):\n",
    "        cell_couple_list = []\n",
    "        l = matrix_x[item].tolist()\n",
    "        for j, score in enumerate(l):\n",
    "            if score > boundary:\n",
    "                cell_couple_list.append(cell_2[j])\n",
    "        if len(cell_couple_list) > 0:\n",
    "            single_couple_dict.update({cell_1[i]: cell_couple_list})\n",
    "\n",
    "    all_couple_dict.update({time_start: single_couple_dict})"
   ]
  },
  {
   "cell_type": "code",
   "execution_count": 7,
   "metadata": {},
   "outputs": [
    {
     "name": "stderr",
     "output_type": "stream",
     "text": [
      "100%|██████████| 208/208 [00:00<00:00, 8007.48it/s]\n"
     ]
    }
   ],
   "source": [
    "trajectories = []\n",
    "\n",
    "def find_trajectories(start_cell, time_step, trajectory, time_end):\n",
    "    if time_step == time_end:\n",
    "        trajectories.append(trajectory)\n",
    "        return\n",
    "    if start_cell not in all_couple_dict.get(time_step, {}):\n",
    "        return\n",
    "    for next_cell in all_couple_dict[time_step][start_cell]:\n",
    "        find_trajectories(next_cell, time_step + 1, trajectory + [next_cell], time_end)\n",
    "\n",
    "\n",
    "time_end = 12\n",
    "for start_cell in tqdm(all_couple_dict[1]):\n",
    "    find_trajectories(start_cell, 1, [start_cell], time_end)\n",
    "\n",
    "# print(trajectories)"
   ]
  },
  {
   "cell_type": "code",
   "execution_count": 8,
   "metadata": {},
   "outputs": [
    {
     "name": "stdout",
     "output_type": "stream",
     "text": [
      "cell_name_traj: (9582, 12)\n"
     ]
    },
    {
     "name": "stderr",
     "output_type": "stream",
     "text": [
      "100%|██████████| 12/12 [00:36<00:00,  3.04s/it]\n"
     ]
    },
    {
     "name": "stdout",
     "output_type": "stream",
     "text": [
      "Final array shape: (12, 9582, 2000)\n"
     ]
    }
   ],
   "source": [
    "cell_name_traj = np.array(trajectories)\n",
    "print(f'cell_name_traj: {cell_name_traj.shape}')\n",
    "\n",
    "\n",
    "# 初始化一个空的列表，用于存储每个时间点的细胞基因表达数据\n",
    "data_by_timepoint = []\n",
    "\n",
    "# 遍历每个时间点\n",
    "for time_point in tqdm(range(cell_name_traj.shape[1])):\n",
    "    # 获取当前时间点的所有细胞名\n",
    "    cells_at_timepoint = cell_name_traj[:, time_point]\n",
    "\n",
    "    # 初始化一个空列表，用于存储当前时间点的所有细胞数据\n",
    "    cell_data_at_timepoint = []\n",
    "\n",
    "    # 遍历当前时间点的每个细胞名\n",
    "    for cell_name in cells_at_timepoint:\n",
    "        # 检索当前细胞的基因表达数据\n",
    "        if cell_name in ann_data.obs.index:\n",
    "            cell_data = ann_data[cell_name, :].X\n",
    "            cell_data_at_timepoint.append(cell_data.flatten())\n",
    "\n",
    "    # 将当前时间点的所有细胞数据转换为一个NumPy数组，并添加到data_by_timepoint列表\n",
    "    if cell_data_at_timepoint:\n",
    "        data_by_timepoint.append(np.stack(cell_data_at_timepoint))\n",
    "\n",
    "# 将所有时间点的数据堆叠成一个NumPy数组，其形状应该是 (timepoint, cell_num, gene)\n",
    "final_array = np.stack(data_by_timepoint)\n",
    "\n",
    "# 确保最终数组形状为 (timepoint, cell_num, gene)\n",
    "print(\"Final array shape:\", final_array.shape)"
   ]
  },
  {
   "cell_type": "code",
   "execution_count": 9,
   "metadata": {},
   "outputs": [],
   "source": [
    "# 归一化 除以5\n",
    "# final_array = final_array / 5"
   ]
  },
  {
   "cell_type": "code",
   "execution_count": 10,
   "metadata": {},
   "outputs": [],
   "source": [
    "np.save('/mnt/sdb/hanyuji-data/SSSD_results/wot_result/gene_traj_009_by5.npy', final_array)"
   ]
  },
  {
   "cell_type": "code",
   "execution_count": null,
   "metadata": {},
   "outputs": [],
   "source": []
  },
  {
   "cell_type": "code",
   "execution_count": 1,
   "metadata": {},
   "outputs": [
    {
     "ename": "NameError",
     "evalue": "name 'final_array' is not defined",
     "output_type": "error",
     "traceback": [
      "\u001b[0;31m---------------------------------------------------------------------------\u001b[0m",
      "\u001b[0;31mNameError\u001b[0m                                 Traceback (most recent call last)",
      "Cell \u001b[0;32mIn[1], line 1\u001b[0m\n\u001b[0;32m----> 1\u001b[0m \u001b[43mfinal_array\u001b[49m\u001b[38;5;241m.\u001b[39mshape\n",
      "\u001b[0;31mNameError\u001b[0m: name 'final_array' is not defined"
     ]
    }
   ],
   "source": [
    "final_array.shape"
   ]
  },
  {
   "cell_type": "code",
   "execution_count": null,
   "metadata": {},
   "outputs": [],
   "source": []
  }
 ],
 "metadata": {
  "kernelspec": {
   "display_name": "wot",
   "language": "python",
   "name": "python3"
  },
  "language_info": {
   "codemirror_mode": {
    "name": "ipython",
    "version": 3
   },
   "file_extension": ".py",
   "mimetype": "text/x-python",
   "name": "python",
   "nbconvert_exporter": "python",
   "pygments_lexer": "ipython3",
   "version": "3.9.0"
  }
 },
 "nbformat": 4,
 "nbformat_minor": 2
}
