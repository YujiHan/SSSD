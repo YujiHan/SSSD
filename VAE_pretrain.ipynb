{
 "cells": [
  {
   "cell_type": "code",
   "execution_count": 1,
   "metadata": {},
   "outputs": [],
   "source": [
    "%load_ext autoreload\n",
    "%autoreload 2"
   ]
  },
  {
   "cell_type": "code",
   "execution_count": 2,
   "metadata": {},
   "outputs": [],
   "source": [
    "import numpy as np\n",
    "import torch\n",
    "from torch import optim\n",
    "from tqdm import tqdm\n",
    "\n",
    "from imputers.VAE_model import VanillaVAE"
   ]
  },
  {
   "cell_type": "markdown",
   "metadata": {},
   "source": [
    "# 数据集"
   ]
  },
  {
   "cell_type": "code",
   "execution_count": 3,
   "metadata": {},
   "outputs": [
    {
     "name": "stdout",
     "output_type": "stream",
     "text": [
      "(12, 9582, 2000)\n",
      "(9582, 12, 2000)\n",
      "(47, 200, 12, 2000)\n"
     ]
    }
   ],
   "source": [
    "data_np = np.load('/mnt/sdb/hanyuji-data/SSSD_results/wot_result/gene_traj_009.npy')\n",
    "print(data_np.shape)  # (12, 9582, 2000)\n",
    "data_np = data_np.transpose(1,0,2)\n",
    "print(data_np.shape)  # (9582, 12, 2000)\n",
    "\n",
    "\n",
    "result = []\n",
    "for i in range(int(data_np.shape[0]/200)):\n",
    "    result.append(data_np[i*200:(i+1)*200,:,:])\n",
    "data_np = np.asarray(result)\n",
    "print(data_np.shape)  # (47, 200, 12, 2000)\n"
   ]
  },
  {
   "cell_type": "code",
   "execution_count": null,
   "metadata": {},
   "outputs": [],
   "source": []
  },
  {
   "cell_type": "markdown",
   "metadata": {},
   "source": [
    "# 验证重构能力"
   ]
  },
  {
   "cell_type": "code",
   "execution_count": 4,
   "metadata": {},
   "outputs": [],
   "source": [
    "# ### test ###\n",
    "\n",
    "# num_points = 100\n",
    "# frequency = [1,3,10]  # Frequency of the first sine wave\n",
    "# for i in range(1997):\n",
    "#     frequency.append(1)\n",
    "\n",
    "# x = np.linspace(0, 2 * np.pi, num_points)\n",
    "# sin_wave = []\n",
    "# for i in range(len(frequency)):\n",
    "#     sin_wave.append(np.sin(frequency[i] * x))\n",
    "\n",
    "# sin_wave_arr = np.asarray(sin_wave).transpose(1,0)\n",
    "\n",
    "# sin_wave_arr = np.tile(sin_wave_arr,(300,1,1))\n",
    "\n",
    "# sin_wave_arr.shape  # (300, 100, 3)\n",
    "\n",
    "# data_np = sin_wave_arr  # (300, 100, 2000)\n",
    "# data_np = data_np.reshape(3,100, 100, 2000)\n",
    "\n",
    "# ### test ###"
   ]
  },
  {
   "cell_type": "code",
   "execution_count": null,
   "metadata": {},
   "outputs": [],
   "source": []
  },
  {
   "cell_type": "markdown",
   "metadata": {},
   "source": [
    "# 模型训练"
   ]
  },
  {
   "cell_type": "code",
   "execution_count": 5,
   "metadata": {},
   "outputs": [],
   "source": [
    "# 配置\n",
    "input_features = 2000\n",
    "latent_dim = 128\n",
    "epochs = 10\n",
    "learning_rate = 1e-3\n",
    "device = torch.device(\"cuda:0\")\n",
    "\n",
    "# 初始化模型和优化器\n",
    "model = VanillaVAE(input_features, latent_dim).to(device)\n",
    "optimizer = optim.Adam(model.parameters(), lr=learning_rate)"
   ]
  },
  {
   "cell_type": "code",
   "execution_count": 6,
   "metadata": {},
   "outputs": [
    {
     "name": "stderr",
     "output_type": "stream",
     "text": [
      " 10%|█         | 1/10 [01:31<13:39, 91.06s/it]"
     ]
    },
    {
     "name": "stdout",
     "output_type": "stream",
     "text": [
      "Epoch 0, Average Loss: 3112.811031019315\n"
     ]
    },
    {
     "name": "stderr",
     "output_type": "stream",
     "text": [
      " 20%|██        | 2/10 [03:01<12:05, 90.64s/it]"
     ]
    },
    {
     "name": "stdout",
     "output_type": "stream",
     "text": [
      "Epoch 1, Average Loss: 2281.5040123492945\n"
     ]
    },
    {
     "name": "stderr",
     "output_type": "stream",
     "text": [
      " 30%|███       | 3/10 [04:34<10:41, 91.69s/it]"
     ]
    },
    {
     "name": "stdout",
     "output_type": "stream",
     "text": [
      "Epoch 2, Average Loss: 1651.9181567197666\n"
     ]
    },
    {
     "name": "stderr",
     "output_type": "stream",
     "text": [
      " 40%|████      | 4/10 [06:08<09:16, 92.76s/it]"
     ]
    },
    {
     "name": "stdout",
     "output_type": "stream",
     "text": [
      "Epoch 3, Average Loss: 1235.391327172285\n"
     ]
    },
    {
     "name": "stderr",
     "output_type": "stream",
     "text": [
      " 50%|█████     | 5/10 [07:39<07:40, 92.17s/it]"
     ]
    },
    {
     "name": "stdout",
     "output_type": "stream",
     "text": [
      "Epoch 4, Average Loss: 989.2330567851895\n"
     ]
    },
    {
     "name": "stderr",
     "output_type": "stream",
     "text": [
      " 60%|██████    | 6/10 [09:18<06:17, 94.28s/it]"
     ]
    },
    {
     "name": "stdout",
     "output_type": "stream",
     "text": [
      "Epoch 5, Average Loss: 830.272759618354\n"
     ]
    },
    {
     "name": "stderr",
     "output_type": "stream",
     "text": [
      " 70%|███████   | 7/10 [10:49<04:39, 93.23s/it]"
     ]
    },
    {
     "name": "stdout",
     "output_type": "stream",
     "text": [
      "Epoch 6, Average Loss: 716.0823687978555\n"
     ]
    },
    {
     "name": "stderr",
     "output_type": "stream",
     "text": [
      " 80%|████████  | 8/10 [12:20<03:05, 92.68s/it]"
     ]
    },
    {
     "name": "stdout",
     "output_type": "stream",
     "text": [
      "Epoch 7, Average Loss: 643.4512810184387\n"
     ]
    },
    {
     "name": "stderr",
     "output_type": "stream",
     "text": [
      " 90%|█████████ | 9/10 [13:51<01:31, 91.91s/it]"
     ]
    },
    {
     "name": "stdout",
     "output_type": "stream",
     "text": [
      "Epoch 8, Average Loss: 581.267225954216\n"
     ]
    },
    {
     "name": "stderr",
     "output_type": "stream",
     "text": [
      "100%|██████████| 10/10 [15:23<00:00, 92.39s/it]"
     ]
    },
    {
     "name": "stdout",
     "output_type": "stream",
     "text": [
      "Epoch 9, Average Loss: 529.6226645933348\n",
      "Training complete\n"
     ]
    },
    {
     "name": "stderr",
     "output_type": "stream",
     "text": [
      "\n"
     ]
    }
   ],
   "source": [
    "# 训练循环\n",
    "model.train()\n",
    "for epoch in tqdm(range(epochs)):\n",
    "    overall_loss = 0\n",
    "    for batch in data_np:\n",
    "        for item in batch:\n",
    "            item = torch.tensor(item).float().to(device)\n",
    "            \n",
    "            optimizer.zero_grad()\n",
    "\n",
    "            # 前向传播\n",
    "            recons, input, mu, log_var = model(item)\n",
    "\n",
    "            # 计算损失\n",
    "            loss_dict = model.loss_function(recons, input, mu, log_var)\n",
    "            loss = loss_dict['loss']\n",
    "\n",
    "            # 反向传播和优化\n",
    "            loss.backward()\n",
    "            optimizer.step()\n",
    "\n",
    "            overall_loss += loss.item()\n",
    "\n",
    "    print(f'Epoch {epoch}, Average Loss: {overall_loss}')\n",
    "\n",
    "print(\"Training complete\")"
   ]
  },
  {
   "cell_type": "code",
   "execution_count": 8,
   "metadata": {},
   "outputs": [
    {
     "name": "stdout",
     "output_type": "stream",
     "text": [
      "Model saved to /mnt/sdb/hanyuji-data/SSSD_results/VAE_result/VAE_10.pth\n"
     ]
    }
   ],
   "source": [
    "# 定义保存路径\n",
    "save_path = '/mnt/sdb/hanyuji-data/SSSD_results/VAE_result/VAE_10.pth'\n",
    "\n",
    "# 保存模型状态字典\n",
    "torch.save(model.state_dict(), save_path)\n",
    "print(f\"Model saved to {save_path}\")"
   ]
  },
  {
   "cell_type": "markdown",
   "metadata": {},
   "source": [
    "# 模型生成"
   ]
  },
  {
   "cell_type": "code",
   "execution_count": 9,
   "metadata": {},
   "outputs": [
    {
     "name": "stdout",
     "output_type": "stream",
     "text": [
      "Model loaded from /mnt/sdb/hanyuji-data/SSSD_results/VAE_result/VAE_10.pth\n"
     ]
    }
   ],
   "source": [
    "input_features = 2000\n",
    "latent_dim = 128\n",
    "\n",
    "model_eval = VanillaVAE(input_features, latent_dim).to(device)\n",
    "save_path = '/mnt/sdb/hanyuji-data/SSSD_results/VAE_result/VAE_10.pth'\n",
    "\n",
    "# 加载模型状态字典\n",
    "model_eval.load_state_dict(torch.load(save_path))\n",
    "model_eval.eval()\n",
    "\n",
    "print(f\"Model loaded from {save_path}\")"
   ]
  },
  {
   "cell_type": "code",
   "execution_count": 10,
   "metadata": {},
   "outputs": [
    {
     "name": "stderr",
     "output_type": "stream",
     "text": [
      "  0%|          | 0/47 [00:00<?, ?it/s]"
     ]
    },
    {
     "name": "stderr",
     "output_type": "stream",
     "text": [
      "100%|██████████| 47/47 [00:17<00:00,  2.61it/s]\n"
     ]
    }
   ],
   "source": [
    "result_list = []\n",
    "for batch in tqdm(data_np):\n",
    "    for item in batch:\n",
    "        item = torch.tensor(item).float().to(device)\n",
    "        result = model_eval.generate(item)\n",
    "        result_list.append(result.detach().cpu().numpy())\n"
   ]
  },
  {
   "cell_type": "code",
   "execution_count": 11,
   "metadata": {},
   "outputs": [
    {
     "name": "stdout",
     "output_type": "stream",
     "text": [
      "(9400, 12, 2000)\n",
      "(12, 9400, 2000)\n"
     ]
    }
   ],
   "source": [
    "result_list = np.asarray(result_list)\n",
    "# result_list = result_list*5\n",
    "print(result_list.shape) # (9400, 12, 2000)\n",
    "\n",
    "# 保存测试结果\n",
    "result_list = result_list.transpose(1,0,2)\n",
    "print(result_list.shape)  # (12, 9400, 2000)\n",
    "np.save('/mnt/sdb/hanyuji-data/SSSD_results/wot_result/gene_traj_VAE_generate_10.npy', result_list)"
   ]
  },
  {
   "cell_type": "markdown",
   "metadata": {},
   "source": [
    "# 隐状态"
   ]
  },
  {
   "cell_type": "code",
   "execution_count": 12,
   "metadata": {},
   "outputs": [
    {
     "data": {
      "text/plain": [
       "(9400, 12, 128)"
      ]
     },
     "execution_count": 12,
     "metadata": {},
     "output_type": "execute_result"
    }
   ],
   "source": [
    "result_list = []\n",
    "for batch in data_np:\n",
    "    for item in batch:\n",
    "        item = torch.tensor(item).float().to(device)\n",
    "        mu, log_var = model_eval.encode(item)\n",
    "        result = model_eval.reparameterize(mu, log_var)\n",
    "        result_list.append(result.detach().cpu().numpy())\n",
    "\n",
    "data_all = np.asarray(result_list)\n",
    "data_all.shape\n",
    "# (9400, 12, 128)"
   ]
  },
  {
   "cell_type": "code",
   "execution_count": 14,
   "metadata": {},
   "outputs": [],
   "source": [
    "# 保存隐状态 (9400, 12, 128)\n",
    "\n",
    "np.save('/mnt/sdb/hanyuji-data/SSSD_results/wot_result/gene_traj_VAE_latent.npy', data_all)"
   ]
  },
  {
   "cell_type": "code",
   "execution_count": 13,
   "metadata": {},
   "outputs": [
    {
     "data": {
      "text/plain": [
       "(9400, 12, 128)"
      ]
     },
     "execution_count": 13,
     "metadata": {},
     "output_type": "execute_result"
    }
   ],
   "source": []
  },
  {
   "cell_type": "code",
   "execution_count": null,
   "metadata": {},
   "outputs": [],
   "source": []
  },
  {
   "cell_type": "code",
   "execution_count": null,
   "metadata": {},
   "outputs": [],
   "source": []
  },
  {
   "cell_type": "code",
   "execution_count": null,
   "metadata": {},
   "outputs": [],
   "source": []
  }
 ],
 "metadata": {
  "kernelspec": {
   "display_name": "SSSD",
   "language": "python",
   "name": "python3"
  },
  "language_info": {
   "codemirror_mode": {
    "name": "ipython",
    "version": 3
   },
   "file_extension": ".py",
   "mimetype": "text/x-python",
   "name": "python",
   "nbconvert_exporter": "python",
   "pygments_lexer": "ipython3",
   "version": "3.9.0"
  }
 },
 "nbformat": 4,
 "nbformat_minor": 2
}
