{
 "cells": [
  {
   "cell_type": "code",
   "execution_count": 1,
   "metadata": {},
   "outputs": [],
   "source": [
    "%load_ext autoreload\n",
    "%autoreload 2"
   ]
  },
  {
   "cell_type": "code",
   "execution_count": 2,
   "metadata": {},
   "outputs": [
    {
     "name": "stderr",
     "output_type": "stream",
     "text": [
      "CUDA extension for cauchy multiplication not found. Install by going to extensions/cauchy/ and running `python setup.py install`. This should speed up end-to-end training by 10-50%\n",
      "Falling back on slow Cauchy kernel. Install at least one of pykeops or the CUDA extension for efficiency.\n"
     ]
    }
   ],
   "source": [
    "import os\n",
    "import numpy as np\n",
    "import torch\n",
    "import torch.nn as nn\n",
    "\n",
    "from utils.util import print_size, training_loss, calc_diffusion_hyperparams\n",
    "\n",
    "\n",
    "from imputers.SSSDS4Imputer import SSSDS4Imputer\n"
   ]
  },
  {
   "cell_type": "code",
   "execution_count": 3,
   "metadata": {},
   "outputs": [],
   "source": [
    "def get_mask_rand(sample, k):\n",
    "    mask = torch.ones(sample.shape)\n",
    "    length_index = torch.tensor(range(mask.shape[0]))  # lenght of series indexes\n",
    "    perm = torch.randperm(len(length_index))\n",
    "    idx = perm[0:k]\n",
    "    mask[idx, :] = 0\n",
    "\n",
    "    return mask\n",
    "\n",
    "\n",
    "def get_mask_given(sample, miss_list):\n",
    "    mask = torch.ones(sample.shape)\n",
    "    mask[miss_list, :] = 0\n",
    "\n",
    "    return mask"
   ]
  },
  {
   "cell_type": "code",
   "execution_count": 4,
   "metadata": {},
   "outputs": [],
   "source": [
    "global trainset_config\n",
    "global diffusion_hyperparams\n",
    "global model_config\n",
    "\n",
    "config = {   \n",
    "    \"diffusion_config\":{\n",
    "        \"T\": 200,\n",
    "        \"beta_0\": 0.0001,\n",
    "        \"beta_T\": 0.02\n",
    "    },\n",
    "    \"wavenet_config\": {\n",
    "        \"in_channels\": 128, \n",
    "        \"out_channels\":128,\n",
    "        \"num_res_layers\": 36,\n",
    "        \"res_channels\": 256, \n",
    "        \"skip_channels\": 256,\n",
    "        \"diffusion_step_embed_dim_in\": 128,\n",
    "        \"diffusion_step_embed_dim_mid\": 512,\n",
    "        \"diffusion_step_embed_dim_out\": 512,\n",
    "        \"s4_lmax\": 100,\n",
    "        \"s4_d_state\":64,\n",
    "        \"s4_dropout\":0.0,\n",
    "        \"s4_bidirectional\":1,\n",
    "        \"s4_layernorm\":1\n",
    "    },\n",
    "    \"train_config\": {\n",
    "        \"output_directory\": \"/home/hanyuji/data/SSSD_results/zebrafish\",\n",
    "        \"ckpt_iter\": -1,\n",
    "        \"iters_per_ckpt\": 1000,\n",
    "        \"iters_per_logging\": 100,\n",
    "        \"n_iters\": 150000,\n",
    "        \"learning_rate\": 2e-4,\n",
    "        \"only_generate_missing\": 1,\n",
    "        \"use_model\": 2,\n",
    "        \"masking\": \"rm\",\n",
    "        \"missing_k\": 3\n",
    "    },\n",
    "    \"trainset_config\":{\n",
    "        \"train_data_path\": \"/home/hanyuji/data/mujoco_dataset/train_mujoco.npy\",\n",
    "        \"test_data_path\": \"/home/hanyuji/data/SSSD_results/VAE_result/vae_10.npy\",\n",
    "        \"segment_length\":100,\n",
    "        \"sampling_rate\": 100\n",
    "    },\n",
    "    \"gen_config\":{\n",
    "        \"output_directory\": \"/home/hanyuji/data/SSSD_results/zebrafish\",\n",
    "        \"ckpt_path\": \"/home/hanyuji/data/SSSD_results/zebrafish\"\n",
    "    }\n",
    "}\n",
    "\n",
    "train_config = config[\"train_config\"]  # training parameters\n",
    "trainset_config = config[\"trainset_config\"]  # to load trainset\n",
    "model_config = config['wavenet_config']\n",
    "diffusion_hyperparams = calc_diffusion_hyperparams(**config[\"diffusion_config\"])  # dictionary of all diffusion hyperparameters"
   ]
  },
  {
   "cell_type": "code",
   "execution_count": 5,
   "metadata": {},
   "outputs": [
    {
     "data": {
      "text/plain": [
       "\"\\nTrain Diffusion Models\\n\\nParameters:\\noutput_directory (str):         save model checkpoints to this path\\nckpt_iter (int or 'max'):       the pretrained checkpoint to be loaded; \\n                                automatically selects the maximum iteration if 'max' is selected\\ndata_path (str):                path to dataset, numpy array.\\nn_iters (int):                  number of iterations to train\\niters_per_ckpt (int):           number of iterations to save checkpoint, \\n                                default is 10k, for models with residual_channel=64 this number can be larger\\niters_per_logging (int):        number of iterations to save training log and compute validation loss, default is 100\\nlearning_rate (float):          learning rate\\n\\nuse_model (int):                0:DiffWave. 1:SSSDSA. 2:SSSDS4.\\nonly_generate_missing (int):    0:all sample diffusion.  1:only apply diffusion to missing portions of the signal\\nmasking(str):                   'mnr': missing not at random, 'bm': blackout missing, 'rm': random missing\\nmissing_k (int):                k missing time steps for each feature across the sample length.\\n\""
      ]
     },
     "execution_count": 5,
     "metadata": {},
     "output_type": "execute_result"
    }
   ],
   "source": [
    "# train(**train_config)\n",
    "\n",
    "output_directory = train_config['output_directory']\n",
    "ckpt_iter = train_config['ckpt_iter']\n",
    "iters_per_ckpt = train_config['iters_per_ckpt']\n",
    "iters_per_logging = train_config['iters_per_logging']\n",
    "n_iters = train_config['n_iters']\n",
    "learning_rate = train_config['learning_rate']\n",
    "only_generate_missing = train_config['only_generate_missing']\n",
    "masking = train_config['masking']\n",
    "missing_k = train_config['missing_k']\n",
    "\n",
    "\n",
    "\"\"\"\n",
    "Train Diffusion Models\n",
    "\n",
    "Parameters:\n",
    "output_directory (str):         save model checkpoints to this path\n",
    "ckpt_iter (int or 'max'):       the pretrained checkpoint to be loaded; \n",
    "                                automatically selects the maximum iteration if 'max' is selected\n",
    "data_path (str):                path to dataset, numpy array.\n",
    "n_iters (int):                  number of iterations to train\n",
    "iters_per_ckpt (int):           number of iterations to save checkpoint, \n",
    "                                default is 10k, for models with residual_channel=64 this number can be larger\n",
    "iters_per_logging (int):        number of iterations to save training log and compute validation loss, default is 100\n",
    "learning_rate (float):          learning rate\n",
    "\n",
    "use_model (int):                0:DiffWave. 1:SSSDSA. 2:SSSDS4.\n",
    "only_generate_missing (int):    0:all sample diffusion.  1:only apply diffusion to missing portions of the signal\n",
    "masking(str):                   'mnr': missing not at random, 'bm': blackout missing, 'rm': random missing\n",
    "missing_k (int):                k missing time steps for each feature across the sample length.\n",
    "\"\"\""
   ]
  },
  {
   "cell_type": "code",
   "execution_count": 6,
   "metadata": {},
   "outputs": [
    {
     "name": "stdout",
     "output_type": "stream",
     "text": [
      "SSSDS4Imputer Parameters: 52.632704M\n"
     ]
    }
   ],
   "source": [
    "# map diffusion hyperparameters to gpu\n",
    "for key in diffusion_hyperparams:\n",
    "    if key != \"T\":\n",
    "        diffusion_hyperparams[key] = diffusion_hyperparams[key].cuda()\n",
    "\n",
    "# predefine model\n",
    "net = SSSDS4Imputer(**model_config).cuda()\n",
    "print_size(net)\n",
    "\n",
    "# define optimizer\n",
    "optimizer = torch.optim.Adam(net.parameters(), lr=learning_rate)\n"
   ]
  },
  {
   "cell_type": "code",
   "execution_count": 12,
   "metadata": {},
   "outputs": [
    {
     "name": "stdout",
     "output_type": "stream",
     "text": [
      "(9400, 12, 128)\n",
      "(47, 200, 12, 128)\n",
      "Data loaded\n"
     ]
    }
   ],
   "source": [
    "### data loading and reshaping ###\n",
    "\n",
    "# training_data = np.load(trainset_config['train_data_path'])\n",
    "training_data = np.load('/mnt/sdb/hanyuji-data/SSSD_results/wot_result/gene_traj_VAE_latent.npy')\n",
    "\n",
    "### norm ###\n",
    "training_data = training_data/100\n",
    "### norm ###\n",
    "\n",
    "print(training_data.shape)\n",
    "training_data = np.split(training_data, 47, 0)\n",
    "training_data = np.array(training_data)\n",
    "print(training_data.shape)\n",
    "\n",
    "training_data = torch.from_numpy(training_data).float().cuda()\n",
    "print('Data loaded')\n",
    "\n",
    "# 8000, 100, 14)\n",
    "# (160, 50, 100, 14)\n",
    "# Data loaded\n",
    "\n",
    "#(9400, 12, 2000)\n",
    "#(47, 200, 12, 2000)\n"
   ]
  },
  {
   "cell_type": "code",
   "execution_count": 13,
   "metadata": {},
   "outputs": [
    {
     "name": "stdout",
     "output_type": "stream",
     "text": [
      "iteration: 0 \tloss: 1.0006115436553955\n",
      "iteration: 100 \tloss: 0.9454097747802734\n",
      "model at iteration 100 is saved\n"
     ]
    },
    {
     "ename": "KeyboardInterrupt",
     "evalue": "",
     "output_type": "error",
     "traceback": [
      "\u001b[0;31m---------------------------------------------------------------------------\u001b[0m",
      "\u001b[0;31mKeyboardInterrupt\u001b[0m                         Traceback (most recent call last)",
      "Cell \u001b[0;32mIn[13], line 18\u001b[0m\n\u001b[1;32m     16\u001b[0m optimizer\u001b[38;5;241m.\u001b[39mzero_grad()\n\u001b[1;32m     17\u001b[0m X \u001b[38;5;241m=\u001b[39m batch, batch, mask, loss_mask\n\u001b[0;32m---> 18\u001b[0m loss \u001b[38;5;241m=\u001b[39m \u001b[43mtraining_loss\u001b[49m\u001b[43m(\u001b[49m\u001b[43mnet\u001b[49m\u001b[43m,\u001b[49m\u001b[43m \u001b[49m\u001b[43mnn\u001b[49m\u001b[38;5;241;43m.\u001b[39;49m\u001b[43mMSELoss\u001b[49m\u001b[43m(\u001b[49m\u001b[43m)\u001b[49m\u001b[43m,\u001b[49m\u001b[43m \u001b[49m\u001b[43mX\u001b[49m\u001b[43m,\u001b[49m\u001b[43m \u001b[49m\u001b[43mdiffusion_hyperparams\u001b[49m\u001b[43m,\u001b[49m\n\u001b[1;32m     19\u001b[0m \u001b[43m                        \u001b[49m\u001b[43monly_generate_missing\u001b[49m\u001b[38;5;241;43m=\u001b[39;49m\u001b[43monly_generate_missing\u001b[49m\u001b[43m)\u001b[49m\n\u001b[1;32m     21\u001b[0m loss\u001b[38;5;241m.\u001b[39mbackward()\n\u001b[1;32m     22\u001b[0m optimizer\u001b[38;5;241m.\u001b[39mstep()\n",
      "File \u001b[0;32m/mnt/sdb/hanyuji-workbench/scSSSD/utils/util.py:226\u001b[0m, in \u001b[0;36mtraining_loss\u001b[0;34m(net, loss_fn, X, diffusion_hyperparams, only_generate_missing)\u001b[0m\n\u001b[1;32m    220\u001b[0m     z \u001b[38;5;241m=\u001b[39m audio \u001b[38;5;241m*\u001b[39m mask\u001b[38;5;241m.\u001b[39mfloat() \u001b[38;5;241m+\u001b[39m z \u001b[38;5;241m*\u001b[39m (\u001b[38;5;241m1\u001b[39m \u001b[38;5;241m-\u001b[39m mask)\u001b[38;5;241m.\u001b[39mfloat()\n\u001b[1;32m    222\u001b[0m transformed_X \u001b[38;5;241m=\u001b[39m (\n\u001b[1;32m    223\u001b[0m     torch\u001b[38;5;241m.\u001b[39msqrt(Alpha_bar[diffusion_steps]) \u001b[38;5;241m*\u001b[39m audio\n\u001b[1;32m    224\u001b[0m     \u001b[38;5;241m+\u001b[39m torch\u001b[38;5;241m.\u001b[39msqrt(\u001b[38;5;241m1\u001b[39m \u001b[38;5;241m-\u001b[39m Alpha_bar[diffusion_steps]) \u001b[38;5;241m*\u001b[39m z\n\u001b[1;32m    225\u001b[0m )  \u001b[38;5;66;03m# compute x_t from q(x_t|x_0)\u001b[39;00m\n\u001b[0;32m--> 226\u001b[0m epsilon_theta \u001b[38;5;241m=\u001b[39m \u001b[43mnet\u001b[49m\u001b[43m(\u001b[49m\n\u001b[1;32m    227\u001b[0m \u001b[43m    \u001b[49m\u001b[43m(\u001b[49m\n\u001b[1;32m    228\u001b[0m \u001b[43m        \u001b[49m\u001b[43mtransformed_X\u001b[49m\u001b[43m,\u001b[49m\n\u001b[1;32m    229\u001b[0m \u001b[43m        \u001b[49m\u001b[43mcond\u001b[49m\u001b[43m,\u001b[49m\n\u001b[1;32m    230\u001b[0m \u001b[43m        \u001b[49m\u001b[43mmask\u001b[49m\u001b[43m,\u001b[49m\n\u001b[1;32m    231\u001b[0m \u001b[43m        \u001b[49m\u001b[43mdiffusion_steps\u001b[49m\u001b[38;5;241;43m.\u001b[39;49m\u001b[43mview\u001b[49m\u001b[43m(\u001b[49m\u001b[43mB\u001b[49m\u001b[43m,\u001b[49m\u001b[43m \u001b[49m\u001b[38;5;241;43m1\u001b[39;49m\u001b[43m)\u001b[49m\u001b[43m,\u001b[49m\n\u001b[1;32m    232\u001b[0m \u001b[43m    \u001b[49m\u001b[43m)\u001b[49m\n\u001b[1;32m    233\u001b[0m \u001b[43m\u001b[49m\u001b[43m)\u001b[49m  \u001b[38;5;66;03m# predict \\epsilon according to \\epsilon_\\theta\u001b[39;00m\n\u001b[1;32m    235\u001b[0m \u001b[38;5;28;01mif\u001b[39;00m only_generate_missing \u001b[38;5;241m==\u001b[39m \u001b[38;5;241m1\u001b[39m:\n\u001b[1;32m    236\u001b[0m     \u001b[38;5;28;01mreturn\u001b[39;00m loss_fn(epsilon_theta[loss_mask], z[loss_mask])\n",
      "File \u001b[0;32m~/miniconda3/envs/SSSD/lib/python3.9/site-packages/torch/nn/modules/module.py:1190\u001b[0m, in \u001b[0;36mModule._call_impl\u001b[0;34m(self, *input, **kwargs)\u001b[0m\n\u001b[1;32m   1186\u001b[0m \u001b[38;5;66;03m# If we don't have any hooks, we want to skip the rest of the logic in\u001b[39;00m\n\u001b[1;32m   1187\u001b[0m \u001b[38;5;66;03m# this function, and just call forward.\u001b[39;00m\n\u001b[1;32m   1188\u001b[0m \u001b[38;5;28;01mif\u001b[39;00m \u001b[38;5;129;01mnot\u001b[39;00m (\u001b[38;5;28mself\u001b[39m\u001b[38;5;241m.\u001b[39m_backward_hooks \u001b[38;5;129;01mor\u001b[39;00m \u001b[38;5;28mself\u001b[39m\u001b[38;5;241m.\u001b[39m_forward_hooks \u001b[38;5;129;01mor\u001b[39;00m \u001b[38;5;28mself\u001b[39m\u001b[38;5;241m.\u001b[39m_forward_pre_hooks \u001b[38;5;129;01mor\u001b[39;00m _global_backward_hooks\n\u001b[1;32m   1189\u001b[0m         \u001b[38;5;129;01mor\u001b[39;00m _global_forward_hooks \u001b[38;5;129;01mor\u001b[39;00m _global_forward_pre_hooks):\n\u001b[0;32m-> 1190\u001b[0m     \u001b[38;5;28;01mreturn\u001b[39;00m \u001b[43mforward_call\u001b[49m\u001b[43m(\u001b[49m\u001b[38;5;241;43m*\u001b[39;49m\u001b[38;5;28;43minput\u001b[39;49m\u001b[43m,\u001b[49m\u001b[43m \u001b[49m\u001b[38;5;241;43m*\u001b[39;49m\u001b[38;5;241;43m*\u001b[39;49m\u001b[43mkwargs\u001b[49m\u001b[43m)\u001b[49m\n\u001b[1;32m   1191\u001b[0m \u001b[38;5;66;03m# Do not call functions when jit is used\u001b[39;00m\n\u001b[1;32m   1192\u001b[0m full_backward_hooks, non_full_backward_hooks \u001b[38;5;241m=\u001b[39m [], []\n",
      "File \u001b[0;32m/mnt/sdb/hanyuji-workbench/scSSSD/imputers/SSSDS4Imputer.py:194\u001b[0m, in \u001b[0;36mSSSDS4Imputer.forward\u001b[0;34m(self, input_data)\u001b[0m\n\u001b[1;32m    192\u001b[0m x \u001b[38;5;241m=\u001b[39m noise\n\u001b[1;32m    193\u001b[0m x \u001b[38;5;241m=\u001b[39m \u001b[38;5;28mself\u001b[39m\u001b[38;5;241m.\u001b[39minit_conv(x)\n\u001b[0;32m--> 194\u001b[0m x \u001b[38;5;241m=\u001b[39m \u001b[38;5;28;43mself\u001b[39;49m\u001b[38;5;241;43m.\u001b[39;49m\u001b[43mresidual_layer\u001b[49m\u001b[43m(\u001b[49m\u001b[43m(\u001b[49m\u001b[43mx\u001b[49m\u001b[43m,\u001b[49m\u001b[43m \u001b[49m\u001b[43mconditional\u001b[49m\u001b[43m,\u001b[49m\u001b[43m \u001b[49m\u001b[43mdiffusion_steps\u001b[49m\u001b[43m)\u001b[49m\u001b[43m)\u001b[49m\n\u001b[1;32m    195\u001b[0m y \u001b[38;5;241m=\u001b[39m \u001b[38;5;28mself\u001b[39m\u001b[38;5;241m.\u001b[39mfinal_conv(x)\n\u001b[1;32m    197\u001b[0m \u001b[38;5;28;01mreturn\u001b[39;00m y\n",
      "File \u001b[0;32m~/miniconda3/envs/SSSD/lib/python3.9/site-packages/torch/nn/modules/module.py:1190\u001b[0m, in \u001b[0;36mModule._call_impl\u001b[0;34m(self, *input, **kwargs)\u001b[0m\n\u001b[1;32m   1186\u001b[0m \u001b[38;5;66;03m# If we don't have any hooks, we want to skip the rest of the logic in\u001b[39;00m\n\u001b[1;32m   1187\u001b[0m \u001b[38;5;66;03m# this function, and just call forward.\u001b[39;00m\n\u001b[1;32m   1188\u001b[0m \u001b[38;5;28;01mif\u001b[39;00m \u001b[38;5;129;01mnot\u001b[39;00m (\u001b[38;5;28mself\u001b[39m\u001b[38;5;241m.\u001b[39m_backward_hooks \u001b[38;5;129;01mor\u001b[39;00m \u001b[38;5;28mself\u001b[39m\u001b[38;5;241m.\u001b[39m_forward_hooks \u001b[38;5;129;01mor\u001b[39;00m \u001b[38;5;28mself\u001b[39m\u001b[38;5;241m.\u001b[39m_forward_pre_hooks \u001b[38;5;129;01mor\u001b[39;00m _global_backward_hooks\n\u001b[1;32m   1189\u001b[0m         \u001b[38;5;129;01mor\u001b[39;00m _global_forward_hooks \u001b[38;5;129;01mor\u001b[39;00m _global_forward_pre_hooks):\n\u001b[0;32m-> 1190\u001b[0m     \u001b[38;5;28;01mreturn\u001b[39;00m \u001b[43mforward_call\u001b[49m\u001b[43m(\u001b[49m\u001b[38;5;241;43m*\u001b[39;49m\u001b[38;5;28;43minput\u001b[39;49m\u001b[43m,\u001b[49m\u001b[43m \u001b[49m\u001b[38;5;241;43m*\u001b[39;49m\u001b[38;5;241;43m*\u001b[39;49m\u001b[43mkwargs\u001b[49m\u001b[43m)\u001b[49m\n\u001b[1;32m   1191\u001b[0m \u001b[38;5;66;03m# Do not call functions when jit is used\u001b[39;00m\n\u001b[1;32m   1192\u001b[0m full_backward_hooks, non_full_backward_hooks \u001b[38;5;241m=\u001b[39m [], []\n",
      "File \u001b[0;32m/mnt/sdb/hanyuji-workbench/scSSSD/imputers/SSSDS4Imputer.py:147\u001b[0m, in \u001b[0;36mResidual_group.forward\u001b[0;34m(self, input_data)\u001b[0m\n\u001b[1;32m    145\u001b[0m skip \u001b[38;5;241m=\u001b[39m \u001b[38;5;241m0\u001b[39m\n\u001b[1;32m    146\u001b[0m \u001b[38;5;28;01mfor\u001b[39;00m n \u001b[38;5;129;01min\u001b[39;00m \u001b[38;5;28mrange\u001b[39m(\u001b[38;5;28mself\u001b[39m\u001b[38;5;241m.\u001b[39mnum_res_layers):\n\u001b[0;32m--> 147\u001b[0m     h, skip_n \u001b[38;5;241m=\u001b[39m \u001b[38;5;28;43mself\u001b[39;49m\u001b[38;5;241;43m.\u001b[39;49m\u001b[43mresidual_blocks\u001b[49m\u001b[43m[\u001b[49m\u001b[43mn\u001b[49m\u001b[43m]\u001b[49m\u001b[43m(\u001b[49m\u001b[43m(\u001b[49m\u001b[43mh\u001b[49m\u001b[43m,\u001b[49m\u001b[43m \u001b[49m\u001b[43mconditional\u001b[49m\u001b[43m,\u001b[49m\u001b[43m \u001b[49m\u001b[43mdiffusion_step_embed\u001b[49m\u001b[43m)\u001b[49m\u001b[43m)\u001b[49m  \n\u001b[1;32m    148\u001b[0m     skip \u001b[38;5;241m+\u001b[39m\u001b[38;5;241m=\u001b[39m skip_n  \n\u001b[1;32m    150\u001b[0m \u001b[38;5;28;01mreturn\u001b[39;00m skip \u001b[38;5;241m*\u001b[39m math\u001b[38;5;241m.\u001b[39msqrt(\u001b[38;5;241m1.0\u001b[39m \u001b[38;5;241m/\u001b[39m \u001b[38;5;28mself\u001b[39m\u001b[38;5;241m.\u001b[39mnum_res_layers)\n",
      "File \u001b[0;32m~/miniconda3/envs/SSSD/lib/python3.9/site-packages/torch/nn/modules/module.py:1190\u001b[0m, in \u001b[0;36mModule._call_impl\u001b[0;34m(self, *input, **kwargs)\u001b[0m\n\u001b[1;32m   1186\u001b[0m \u001b[38;5;66;03m# If we don't have any hooks, we want to skip the rest of the logic in\u001b[39;00m\n\u001b[1;32m   1187\u001b[0m \u001b[38;5;66;03m# this function, and just call forward.\u001b[39;00m\n\u001b[1;32m   1188\u001b[0m \u001b[38;5;28;01mif\u001b[39;00m \u001b[38;5;129;01mnot\u001b[39;00m (\u001b[38;5;28mself\u001b[39m\u001b[38;5;241m.\u001b[39m_backward_hooks \u001b[38;5;129;01mor\u001b[39;00m \u001b[38;5;28mself\u001b[39m\u001b[38;5;241m.\u001b[39m_forward_hooks \u001b[38;5;129;01mor\u001b[39;00m \u001b[38;5;28mself\u001b[39m\u001b[38;5;241m.\u001b[39m_forward_pre_hooks \u001b[38;5;129;01mor\u001b[39;00m _global_backward_hooks\n\u001b[1;32m   1189\u001b[0m         \u001b[38;5;129;01mor\u001b[39;00m _global_forward_hooks \u001b[38;5;129;01mor\u001b[39;00m _global_forward_pre_hooks):\n\u001b[0;32m-> 1190\u001b[0m     \u001b[38;5;28;01mreturn\u001b[39;00m \u001b[43mforward_call\u001b[49m\u001b[43m(\u001b[49m\u001b[38;5;241;43m*\u001b[39;49m\u001b[38;5;28;43minput\u001b[39;49m\u001b[43m,\u001b[49m\u001b[43m \u001b[49m\u001b[38;5;241;43m*\u001b[39;49m\u001b[38;5;241;43m*\u001b[39;49m\u001b[43mkwargs\u001b[49m\u001b[43m)\u001b[49m\n\u001b[1;32m   1191\u001b[0m \u001b[38;5;66;03m# Do not call functions when jit is used\u001b[39;00m\n\u001b[1;32m   1192\u001b[0m full_backward_hooks, non_full_backward_hooks \u001b[38;5;241m=\u001b[39m [], []\n",
      "File \u001b[0;32m/mnt/sdb/hanyuji-workbench/scSSSD/imputers/SSSDS4Imputer.py:85\u001b[0m, in \u001b[0;36mResidual_block.forward\u001b[0;34m(self, input_data)\u001b[0m\n\u001b[1;32m     82\u001b[0m B, C, L \u001b[38;5;241m=\u001b[39m x\u001b[38;5;241m.\u001b[39mshape\n\u001b[1;32m     83\u001b[0m \u001b[38;5;28;01massert\u001b[39;00m C \u001b[38;5;241m==\u001b[39m \u001b[38;5;28mself\u001b[39m\u001b[38;5;241m.\u001b[39mres_channels                      \n\u001b[0;32m---> 85\u001b[0m part_t \u001b[38;5;241m=\u001b[39m \u001b[38;5;28;43mself\u001b[39;49m\u001b[38;5;241;43m.\u001b[39;49m\u001b[43mfc_t\u001b[49m\u001b[43m(\u001b[49m\u001b[43mdiffusion_step_embed\u001b[49m\u001b[43m)\u001b[49m\n\u001b[1;32m     86\u001b[0m part_t \u001b[38;5;241m=\u001b[39m part_t\u001b[38;5;241m.\u001b[39mview([B, \u001b[38;5;28mself\u001b[39m\u001b[38;5;241m.\u001b[39mres_channels, \u001b[38;5;241m1\u001b[39m])  \n\u001b[1;32m     87\u001b[0m h \u001b[38;5;241m=\u001b[39m h \u001b[38;5;241m+\u001b[39m part_t\n",
      "File \u001b[0;32m~/miniconda3/envs/SSSD/lib/python3.9/site-packages/torch/nn/modules/module.py:1190\u001b[0m, in \u001b[0;36mModule._call_impl\u001b[0;34m(self, *input, **kwargs)\u001b[0m\n\u001b[1;32m   1186\u001b[0m \u001b[38;5;66;03m# If we don't have any hooks, we want to skip the rest of the logic in\u001b[39;00m\n\u001b[1;32m   1187\u001b[0m \u001b[38;5;66;03m# this function, and just call forward.\u001b[39;00m\n\u001b[1;32m   1188\u001b[0m \u001b[38;5;28;01mif\u001b[39;00m \u001b[38;5;129;01mnot\u001b[39;00m (\u001b[38;5;28mself\u001b[39m\u001b[38;5;241m.\u001b[39m_backward_hooks \u001b[38;5;129;01mor\u001b[39;00m \u001b[38;5;28mself\u001b[39m\u001b[38;5;241m.\u001b[39m_forward_hooks \u001b[38;5;129;01mor\u001b[39;00m \u001b[38;5;28mself\u001b[39m\u001b[38;5;241m.\u001b[39m_forward_pre_hooks \u001b[38;5;129;01mor\u001b[39;00m _global_backward_hooks\n\u001b[1;32m   1189\u001b[0m         \u001b[38;5;129;01mor\u001b[39;00m _global_forward_hooks \u001b[38;5;129;01mor\u001b[39;00m _global_forward_pre_hooks):\n\u001b[0;32m-> 1190\u001b[0m     \u001b[38;5;28;01mreturn\u001b[39;00m \u001b[43mforward_call\u001b[49m\u001b[43m(\u001b[49m\u001b[38;5;241;43m*\u001b[39;49m\u001b[38;5;28;43minput\u001b[39;49m\u001b[43m,\u001b[49m\u001b[43m \u001b[49m\u001b[38;5;241;43m*\u001b[39;49m\u001b[38;5;241;43m*\u001b[39;49m\u001b[43mkwargs\u001b[49m\u001b[43m)\u001b[49m\n\u001b[1;32m   1191\u001b[0m \u001b[38;5;66;03m# Do not call functions when jit is used\u001b[39;00m\n\u001b[1;32m   1192\u001b[0m full_backward_hooks, non_full_backward_hooks \u001b[38;5;241m=\u001b[39m [], []\n",
      "File \u001b[0;32m~/miniconda3/envs/SSSD/lib/python3.9/site-packages/torch/nn/modules/linear.py:114\u001b[0m, in \u001b[0;36mLinear.forward\u001b[0;34m(self, input)\u001b[0m\n\u001b[1;32m    113\u001b[0m \u001b[38;5;28;01mdef\u001b[39;00m \u001b[38;5;21mforward\u001b[39m(\u001b[38;5;28mself\u001b[39m, \u001b[38;5;28minput\u001b[39m: Tensor) \u001b[38;5;241m-\u001b[39m\u001b[38;5;241m>\u001b[39m Tensor:\n\u001b[0;32m--> 114\u001b[0m     \u001b[38;5;28;01mreturn\u001b[39;00m \u001b[43mF\u001b[49m\u001b[38;5;241;43m.\u001b[39;49m\u001b[43mlinear\u001b[49m\u001b[43m(\u001b[49m\u001b[38;5;28;43minput\u001b[39;49m\u001b[43m,\u001b[49m\u001b[43m \u001b[49m\u001b[38;5;28;43mself\u001b[39;49m\u001b[38;5;241;43m.\u001b[39;49m\u001b[43mweight\u001b[49m\u001b[43m,\u001b[49m\u001b[43m \u001b[49m\u001b[38;5;28;43mself\u001b[39;49m\u001b[38;5;241;43m.\u001b[39;49m\u001b[43mbias\u001b[49m\u001b[43m)\u001b[49m\n",
      "\u001b[0;31mKeyboardInterrupt\u001b[0m: "
     ]
    }
   ],
   "source": [
    "# training\n",
    "n_iter = ckpt_iter + 1\n",
    "while n_iter < n_iters + 1:\n",
    "    for batch in training_data:\n",
    "\n",
    "        transposed_mask = get_mask_rand(batch[0], missing_k)\n",
    "\n",
    "        mask = transposed_mask.permute(1, 0)\n",
    "        mask = mask.repeat(batch.size()[0], 1, 1).float().cuda()\n",
    "        loss_mask = ~mask.bool()\n",
    "        batch = batch.permute(0, 2, 1)\n",
    "\n",
    "        assert batch.size() == mask.size() == loss_mask.size()\n",
    "\n",
    "        # back-propagation\n",
    "        optimizer.zero_grad()\n",
    "        X = batch, batch, mask, loss_mask\n",
    "        loss = training_loss(net, nn.MSELoss(), X, diffusion_hyperparams,\n",
    "                                only_generate_missing=only_generate_missing)\n",
    "\n",
    "        loss.backward()\n",
    "        optimizer.step()\n",
    "\n",
    "        if n_iter % iters_per_logging == 0:\n",
    "            print(\"iteration: {} \\tloss: {}\".format(n_iter, loss.item()))\n",
    "\n",
    "        # save checkpoint\n",
    "        if n_iter > 0 and n_iter % iters_per_ckpt == 0:\n",
    "            checkpoint_name = '{}.pkl'.format(n_iter)\n",
    "            torch.save({'model_state_dict': net.state_dict(),\n",
    "                        'optimizer_state_dict': optimizer.state_dict()},\n",
    "                        os.path.join(output_directory, checkpoint_name))\n",
    "            print('model at iteration %s is saved' % n_iter)\n",
    "\n",
    "        n_iter += 1\n"
   ]
  },
  {
   "cell_type": "code",
   "execution_count": null,
   "metadata": {},
   "outputs": [],
   "source": []
  }
 ],
 "metadata": {
  "kernelspec": {
   "display_name": "SSSD",
   "language": "python",
   "name": "python3"
  },
  "language_info": {
   "codemirror_mode": {
    "name": "ipython",
    "version": 3
   },
   "file_extension": ".py",
   "mimetype": "text/x-python",
   "name": "python",
   "nbconvert_exporter": "python",
   "pygments_lexer": "ipython3",
   "version": "3.9.0"
  }
 },
 "nbformat": 4,
 "nbformat_minor": 2
}
